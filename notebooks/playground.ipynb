{
 "cells": [
  {
   "cell_type": "code",
   "execution_count": 17,
   "metadata": {
    "collapsed": true,
    "ExecuteTime": {
     "end_time": "2024-06-10T13:15:49.094956Z",
     "start_time": "2024-06-10T13:15:47.943669Z"
    }
   },
   "outputs": [
    {
     "ename": "ValueError",
     "evalue": "not enough values to unpack (expected 2, got 1)",
     "output_type": "error",
     "traceback": [
      "\u001B[0;31m---------------------------------------------------------------------------\u001B[0m",
      "\u001B[0;31mValueError\u001B[0m                                Traceback (most recent call last)",
      "Cell \u001B[0;32mIn[17], line 59\u001B[0m\n\u001B[1;32m     50\u001B[0m     plt\u001B[38;5;241m.\u001B[39mshow()\n\u001B[1;32m     52\u001B[0m \u001B[38;5;66;03m# # Load a Sample Image\u001B[39;00m\n\u001B[1;32m     53\u001B[0m \u001B[38;5;66;03m# sample_image, _ = train_dataset_ori[0]  # Load the first image (and its label)\u001B[39;00m\n\u001B[1;32m     54\u001B[0m \u001B[38;5;66;03m# \u001B[39;00m\n\u001B[0;32m   (...)\u001B[0m\n\u001B[1;32m     57\u001B[0m \n\u001B[1;32m     58\u001B[0m \u001B[38;5;66;03m# Display Results\u001B[39;00m\n\u001B[0;32m---> 59\u001B[0m (sample_image, _), (inverted_sample, _) \u001B[38;5;241m=\u001B[39m dataset[\u001B[38;5;241m0\u001B[39m]\n\u001B[1;32m     60\u001B[0m show_images(sample_image, inverted_sample)\n",
      "\u001B[0;31mValueError\u001B[0m: not enough values to unpack (expected 2, got 1)"
     ]
    }
   ],
   "source": [
    "import torch\n",
    "from torchvision import datasets\n",
    "from torchvision.transforms import v2\n",
    "from torch.utils.data import ConcatDataset\n",
    "\n",
    "from PIL import Image\n",
    "import matplotlib.pyplot as plt\n",
    "\n",
    "class InvertPixelTransform(object):\n",
    "    def __call__(self, image):\n",
    "        # Ensure image is a PyTorch tensor and within the valid range [0, 1]\n",
    "        if not isinstance(image, torch.Tensor):\n",
    "            raise ValueError(\"Expected input image to be a PyTorch tensor.\")\n",
    "        if image.min() < 0 or image.max() > 1:\n",
    "            raise ValueError(\"Image pixel values should be in the range [0, 1].\")\n",
    "\n",
    "        # Invert the pixel values (1 - value)\n",
    "        inverted_image = 1 - image\n",
    "        return inverted_image\n",
    "\n",
    "\n",
    "\n",
    "\n",
    "# Data Loading and Transformation\n",
    "transform_ori = v2.Compose([\n",
    "    v2.ToTensor(),\n",
    "])\n",
    "\n",
    "transform_rot_invert = v2.Compose([\n",
    "    v2.ToTensor(),\n",
    "    v2.RandomRotation(degrees=(45,45)),\n",
    "    InvertPixelTransform(),\n",
    "])\n",
    "\n",
    "train_dataset_ori = datasets.MNIST(root='./data', train=True, download=True, transform=transform_ori)\n",
    "train_dataset_rot_invert = datasets.MNIST(root='./data', train=True, download=True, transform=transform_rot_invert)\n",
    "\n",
    "dataset = ConcatDataset(datasets=[train_dataset_ori, train_dataset_rot_invert])\n",
    "\n",
    "# Visualize Original and Transformed Images\n",
    "def show_images(original_image, transformed_image):\n",
    "    fig, axs = plt.subplots(1, 2, figsize=(10, 5))\n",
    "\n",
    "    axs[0].imshow(original_image.squeeze(), cmap='gray')  # MNIST is grayscale\n",
    "    axs[0].set_title(\"Original Image\")\n",
    "\n",
    "    axs[1].imshow(transformed_image.squeeze(), cmap='gray')\n",
    "    axs[1].set_title(\"Rotated Inverted Image\")\n",
    "\n",
    "    plt.show()\n",
    "\n",
    "# # Load a Sample Image\n",
    "# sample_image, _ = train_dataset_ori[0]  # Load the first image (and its label)\n",
    "#\n",
    "# # Apply the Transformation\n",
    "# inverted_sample, _ = train_dataset_rot_invert[0] # Clone to avoid modifying original\n",
    "\n",
    "# Display Results\n",
    "(sample_image, _), (inverted_sample, _) = dataset\n",
    "show_images(sample_image, inverted_sample)\n"
   ]
  },
  {
   "cell_type": "code",
   "execution_count": 1,
   "outputs": [
    {
     "name": "stdout",
     "output_type": "stream",
     "text": [
      "/local/scratch/a/gong123/vaub-gp-pl-hydra/notebooks\n"
     ]
    }
   ],
   "source": [
    "import os, sys\n",
    "print(os.getcwd())"
   ],
   "metadata": {
    "collapsed": false,
    "ExecuteTime": {
     "end_time": "2024-06-08T00:51:08.065936Z",
     "start_time": "2024-06-08T00:51:08.044454Z"
    }
   }
  },
  {
   "cell_type": "code",
   "execution_count": null,
   "outputs": [],
   "source": [],
   "metadata": {
    "collapsed": false
   }
  }
 ],
 "metadata": {
  "kernelspec": {
   "display_name": "Python 3",
   "language": "python",
   "name": "python3"
  },
  "language_info": {
   "codemirror_mode": {
    "name": "ipython",
    "version": 2
   },
   "file_extension": ".py",
   "mimetype": "text/x-python",
   "name": "python",
   "nbconvert_exporter": "python",
   "pygments_lexer": "ipython2",
   "version": "2.7.6"
  }
 },
 "nbformat": 4,
 "nbformat_minor": 0
}
